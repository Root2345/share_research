{
 "cells": [
  {
   "cell_type": "code",
   "execution_count": null,
   "metadata": {},
   "outputs": [],
   "source": [
    "import tensorflow as tf\n",
    "import numpy as np\n",
    "import os"
   ]
  },
  {
   "cell_type": "code",
   "execution_count": null,
   "metadata": {},
   "outputs": [],
   "source": [
    "model_path = '/home/s226059/workspace/git_space/workspace/model/model_xvec_20220527-000619'\n",
    "model = tf.keras.models.load_model(model_path)\n"
   ]
  },
  {
   "cell_type": "code",
   "execution_count": null,
   "metadata": {},
   "outputs": [],
   "source": [
    "model.summary()"
   ]
  },
  {
   "cell_type": "code",
   "execution_count": null,
   "metadata": {},
   "outputs": [],
   "source": [
    "dense_1 = model.get_layer('dense_1')\n",
    "print(dense_1)\n",
    "print(type(dense_1))"
   ]
  },
  {
   "cell_type": "code",
   "execution_count": null,
   "metadata": {},
   "outputs": [],
   "source": [
    "import my_data_loader\n",
    "\n",
    "spectrograms, datas = my_data_loader.set_spectrograms_and_datas()\n",
    "spectrograms = spectrograms.transpose(0, 2, 1)"
   ]
  },
  {
   "cell_type": "code",
   "execution_count": null,
   "metadata": {},
   "outputs": [],
   "source": [
    "from xvec_train import set_tf_dataset\n",
    "age_th = 13\n",
    "test_group = 0\n",
    "classes = 59\n",
    "batch_size = 1\n",
    "train_specs, train_labels, valid_specs, valid_labels, test_specs, test_labels = my_data_loader.load_datas(spectrograms, datas, age_th, test_group, classes)\n",
    "    \n",
    "tr_ds = set_tf_dataset(train_specs, train_labels, classes=classes, batch_size=batch_size)\n",
    "va_ds = set_tf_dataset(valid_specs, valid_labels, classes=classes, shuffle=False, batch_size=1)\n",
    "ts_ds = set_tf_dataset(test_specs, test_labels, classes=classes, shuffle=False, batch_size=1)"
   ]
  },
  {
   "cell_type": "code",
   "execution_count": null,
   "metadata": {},
   "outputs": [],
   "source": [
    "tr_eva = model.evaluate(tr_ds)\n",
    "va_eva = model.evaluate(va_ds)\n",
    "ts_eva = model.evaluate(ts_ds)"
   ]
  },
  {
   "cell_type": "code",
   "execution_count": null,
   "metadata": {},
   "outputs": [],
   "source": [
    "print(spectrograms[0])"
   ]
  },
  {
   "cell_type": "code",
   "execution_count": null,
   "metadata": {},
   "outputs": [],
   "source": [
    "# 中間層の出力（埋め込みベクトルの取得）\n",
    "intermediate_layer_model = tf.keras.Model(inputs=model.input,\n",
    "                                          outputs=model.get_layer('dense_1').output)\n",
    "intermediate_output = intermediate_layer_model.predict(spectrograms)"
   ]
  },
  {
   "cell_type": "code",
   "execution_count": null,
   "metadata": {},
   "outputs": [],
   "source": [
    "print(intermediate_output)\n",
    "print(intermediate_output.shape)"
   ]
  },
  {
   "cell_type": "code",
   "execution_count": null,
   "metadata": {},
   "outputs": [],
   "source": [
    "from xvec_train import set_tf_dataset\n",
    "\n",
    "age_th = 13\n",
    "test_group = 0\n",
    "classes = 2\n",
    "# log = \"test/cnn \" + datetime.datetime.now().strftime(\"%Y%m%d-%H%M%S\")\n",
    "epochs = 500\n",
    "batch_size = 16\n",
    "train_xvecs, train_labels, valid_xvecs, valid_labels, test_xvecs, test_labels = my_data_loader.load_datas(intermediate_output, datas, age_th, test_group, classes)\n",
    "\n",
    "tr_ds = set_tf_dataset(train_xvecs, train_labels, classes=classes, batch_size=batch_size)\n",
    "va_ds = set_tf_dataset(valid_xvecs, valid_labels, classes=classes, shuffle=False, batch_size=1)\n",
    "ts_ds = set_tf_dataset(test_xvecs, test_labels, classes=classes, shuffle=False, batch_size=1)"
   ]
  },
  {
   "cell_type": "code",
   "execution_count": null,
   "metadata": {},
   "outputs": [],
   "source": [
    "ds = iter(ts_ds)\n",
    "d = next(ds)\n",
    "print(d)"
   ]
  },
  {
   "cell_type": "code",
   "execution_count": null,
   "metadata": {},
   "outputs": [],
   "source": [
    "from tensorflow.keras import layers, models\n",
    "classes = 3\n",
    "\n",
    "adch_model = models.Sequential()\n",
    "\n",
    "adch_model.add(layers.Dense(512, activation='relu'))\n",
    "adch_model.add(layers.BatchNormalization())\n",
    "adch_model.add(layers.Dense(512, activation='relu'))\n",
    "adch_model.add(layers.BatchNormalization())\n",
    "if classes == 2:\n",
    "    adch_model.add(layers.Dense(classes, activation=\"sigmoid\"))\n",
    "elif classes > 2:\n",
    "    adch_model.add(layers.Dense(classes, activation=\"softmax\"))\n",
    "\n",
    "met = tf.keras.metrics.CategoricalAccuracy(False)\n",
    "\n",
    "# adch_model.summary()\n",
    "loss = tf.keras.losses.CategoricalCrossentropy()\n",
    "# loss = tf.keras.losses.BinaryCrossentropy()\n",
    "\n",
    "adch_model.compile(optimizer=tf.keras.optimizers.Adam(learning_rate=0.000001),\n",
    "            loss=loss,\n",
    "            metrics=[met])\n",
    "\n",
    "# tb = TensorBoard(log_dir=os.path.join('./logs', log), \n",
    "#                               histogram_freq=1,\n",
    "#                               write_images=True,\n",
    "#                               update_freq='batch',\n",
    "#                               )\n",
    "    \n",
    "# Early Stopping\n",
    "es = tf.keras.callbacks.EarlyStopping(verbose=1, patience=20)\n",
    "\n",
    "# Model Checkpoint\n",
    "# mc = tf.keras.callbacks.ModelCheckpoint(filepath = model_name,\n",
    "#                                         monitor='val_loss',\n",
    "#                                         verbose=1,\n",
    "#                                         save_best_only=True,\n",
    "#                                         save_weights_only=False,\n",
    "#                                         mode='min',\n",
    "#                                         period=1)\n",
    "\n",
    "histroy = adch_model.fit(\n",
    "    tr_ds,\n",
    "    epochs=30,\n",
    "    validation_data=va_ds,\n",
    "    callbacks=[es]\n",
    ")\n",
    "\n",
    "eva = adch_model.evaluate(ts_ds)\n",
    "predictions = adch_model.predict(ts_ds)"
   ]
  },
  {
   "cell_type": "code",
   "execution_count": null,
   "metadata": {},
   "outputs": [],
   "source": [
    "from tensorflow.keras import layers, models\n",
    "classes = 2\n",
    "\n",
    "tf.keras.backend.clear_session()\n",
    "adch_model = models.Sequential()\n",
    "\n",
    "adch_model.add(layers.Dense(512, activation='relu'))\n",
    "adch_model.add(layers.BatchNormalization())\n",
    "adch_model.add(layers.Dense(512, activation='relu'))\n",
    "adch_model.add(layers.BatchNormalization())\n",
    "if classes == 2:\n",
    "    adch_model.add(layers.Dense(classes, activation=\"sigmoid\"))\n",
    "elif classes > 2:\n",
    "    adch_model.add(layers.Dense(classes, activation=\"softmax\"))\n",
    "\n",
    "met = tf.keras.metrics.CategoricalAccuracy(False)\n",
    "\n",
    "# adch_model.summary()\n",
    "# loss = tf.keras.losses.CategoricalCrossentropy()\n",
    "loss = tf.keras.losses.BinaryCrossentropy()\n",
    "\n",
    "adch_model.compile(optimizer=tf.keras.optimizers.Adam(learning_rate=0.0000001),\n",
    "            loss=loss,\n",
    "            metrics=[met])\n",
    "\n",
    "# tb = TensorBoard(log_dir=os.path.join('./logs', log), \n",
    "#                               histogram_freq=1,\n",
    "#                               write_images=True,\n",
    "#                               update_freq='batch',\n",
    "#                               )\n",
    "    \n",
    "# Early Stopping\n",
    "es = tf.keras.callbacks.EarlyStopping(verbose=1, patience=20)\n",
    "\n",
    "# Model Checkpoint\n",
    "# mc = tf.keras.callbacks.ModelCheckpoint(filepath = model_name,\n",
    "#                                         monitor='val_loss',\n",
    "#                                         verbose=1,\n",
    "#                                         save_best_only=True,\n",
    "#                                         save_weights_only=False,\n",
    "#                                         mode='min',\n",
    "#                                         period=1)\n",
    "\n",
    "histroy = adch_model.fit(\n",
    "    tr_ds,\n",
    "    epochs=100,\n",
    "    validation_data=va_ds,\n",
    "    callbacks=[es]\n",
    ")\n",
    "\n",
    "eva = adch_model.evaluate(ts_ds)\n",
    "predictions = adch_model.predict(ts_ds)"
   ]
  },
  {
   "cell_type": "code",
   "execution_count": null,
   "metadata": {},
   "outputs": [],
   "source": [
    "adch_model.summary()\n",
    "tr_ds = set_tf_dataset(train_xvecs, train_labels, classes=classes, batch_size=1)\n",
    "tr_eva = adch_model.evaluate(tr_ds)\n",
    "va_eva = adch_model.evaluate(va_ds)\n",
    "ts_eva = adch_model.evaluate(ts_ds)"
   ]
  },
  {
   "cell_type": "code",
   "execution_count": null,
   "metadata": {},
   "outputs": [],
   "source": [
    "# モデル保存\n",
    "import datetime\n",
    "adch_model.save_weights('model/bi_ageth13_ts0_affinemodel'+ datetime.datetime.now().strftime(\"%Y%m%d-%H%M%S\"))"
   ]
  }
 ],
 "metadata": {
  "interpreter": {
   "hash": "faa0cd66080347909492f1505941272568e21daa876e388e62ef144aabf2338c"
  },
  "kernelspec": {
   "display_name": "Python 3.7.10 ('tf23': conda)",
   "language": "python",
   "name": "python3"
  },
  "language_info": {
   "codemirror_mode": {
    "name": "ipython",
    "version": 3
   },
   "file_extension": ".py",
   "mimetype": "text/x-python",
   "name": "python",
   "nbconvert_exporter": "python",
   "pygments_lexer": "ipython3",
   "version": "3.7.10"
  },
  "orig_nbformat": 4
 },
 "nbformat": 4,
 "nbformat_minor": 2
}
